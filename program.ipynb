{
  "nbformat": 4,
  "nbformat_minor": 0,
  "metadata": {
    "colab": {
      "provenance": [],
      "authorship_tag": "ABX9TyN4PrOv2ot7MYQFCMkISKgD",
      "include_colab_link": true
    },
    "kernelspec": {
      "name": "python3",
      "display_name": "Python 3"
    },
    "language_info": {
      "name": "python"
    }
  },
  "cells": [
    {
      "cell_type": "markdown",
      "metadata": {
        "id": "view-in-github",
        "colab_type": "text"
      },
      "source": [
        "<a href=\"https://colab.research.google.com/github/manisha-k123/Manisha/blob/main/program.ipynb\" target=\"_parent\"><img src=\"https://colab.research.google.com/assets/colab-badge.svg\" alt=\"Open In Colab\"/></a>"
      ]
    },
    {
      "cell_type": "code",
      "execution_count": null,
      "metadata": {
        "id": "OSwPavz9RHf8"
      },
      "outputs": [],
      "source": []
    },
    {
      "cell_type": "code",
      "source": [
        "import pandas as pd\n",
        "\n",
        "# List of tuples (Statement, Label)\n",
        "data = [\n",
        "    [\"This is very good place\", \"pos\"],\n",
        "    [\"I like this biryani\", \"pos\"],\n",
        "    [\"I feel very happy\", \"pos\"],\n",
        "    [\"This is my best work\", \"pos\"],\n",
        "    [\"I do not like this restaurant\", \"neg\"],\n",
        "    [\"I am tired of this stuff\", \"neg\"],\n",
        "    [\"I can't deal with this\", \"neg\"],\n",
        "    [\"What an idea it is\", \"pos\"],\n",
        "    [\"My place is horrible\", \"neg\"],\n",
        "    [\"This is an awesome place\", \"pos\"],\n",
        "    [\"I do not like the taste of this juice\", \"neg\"],\n",
        "    [\"I love to sing\", \"pos\"],\n",
        "    [\"I am sick and tired\", \"neg\"],\n",
        "    [\"I love to dance\", \"pos\"],\n",
        "    [\"What a great holiday\", \"pos\"],\n",
        "    [\"That is a bad locality to stay\", \"neg\"],\n",
        "    [\"We will have good fun tomorrow\", \"pos\"],\n",
        "    [\"I hate this food\", \"neg\"]\n",
        "]\n",
        "\n",
        "# Create DataFrame and save to CSV\n",
        "df = pd.DataFrame(data, columns=[\"Statement\", \"Label\"])\n",
        "df.to_csv(\"Statements_data.csv\", index=False)"
      ],
      "metadata": {
        "id": "O_W1SDZXRKiO"
      },
      "execution_count": 1,
      "outputs": []
    },
    {
      "cell_type": "code",
      "source": [
        "import pandas as pd\n",
        "from sklearn.model_selection import train_test_split\n",
        "from sklearn.feature_extraction.text import CountVectorizer\n",
        "from sklearn.neural_network import MLPClassifier\n",
        "from sklearn.metrics import accuracy_score, confusion_matrix, precision_score, recall_score\n",
        "\n",
        "# Load the CSV file (with header if available)\n",
        "msglbl_data = pd.read_csv('Statements_data.csv')\n",
        "\n",
        "# Display total instances\n",
        "print(\"The Total instances in the Dataset:\", msglbl_data.shape[0])\n",
        "\n",
        "# Encode labels: pos -> 1, neg -> 0\n",
        "msglbl_data['labelnum'] = msglbl_data['Label'].map({'pos': 1, 'neg': 0})\n",
        "\n",
        "# Features and labels\n",
        "X = msglbl_data['Statement']\n",
        "Y = msglbl_data['labelnum']\n",
        "\n",
        "# Split into training and testing sets\n",
        "Xtrain, Xtest, Ytrain, Ytest = train_test_split(X, Y, test_size=0.3, random_state=42)\n",
        "\n",
        "# Vectorize the statements (convert text to numeric form)\n",
        "count_vect = CountVectorizer()\n",
        "Xtrain_dims = count_vect.fit_transform(Xtrain)\n",
        "Xtest_dims = count_vect.transform(Xtest)\n",
        "\n",
        "# Initialize MLPClassifier (Backpropagation-based)\n",
        "clf = MLPClassifier(solver='lbfgs', alpha=1e-5, hidden_layer_sizes=(5, 2), random_state=1)\n",
        "\n",
        "# Train the model\n",
        "clf.fit(Xtrain_dims, Ytrain)\n",
        "\n",
        "# Predict on test set\n",
        "prediction = clf.predict(Xtest_dims)\n",
        "\n",
        "# Print accuracy metrics\n",
        "print('******** Accuracy Metrics *********')\n",
        "print('Accuracy :', accuracy_score(Ytest, prediction))\n",
        "print('Recall :', recall_score(Ytest, prediction))\n",
        "print('Precision :', precision_score(Ytest, prediction))\n",
        "print('Confusion Matrix :\\n', confusion_matrix(Ytest, prediction))\n",
        "print(\"-\" * 40)\n",
        "\n",
        "# Custom statement prediction\n",
        "test_stmt = [input(\"Enter any statement to predict: \")]\n",
        "test_dims = count_vect.transform(test_stmt)\n",
        "pred = clf.predict(test_dims)\n",
        "\n",
        "# Display prediction result\n",
        "if pred[0] == 1:\n",
        "    print(\"Statement is Positive\")\n",
        "else:\n",
        "    print(\"Statement is Negative\")"
      ],
      "metadata": {
        "colab": {
          "base_uri": "https://localhost:8080/"
        },
        "id": "NoScelxARUPG",
        "outputId": "4776af32-f364-4593-dd79-d7e58d796f42"
      },
      "execution_count": 2,
      "outputs": [
        {
          "output_type": "stream",
          "name": "stdout",
          "text": [
            "The Total instances in the Dataset: 18\n",
            "******** Accuracy Metrics *********\n",
            "Accuracy : 0.5\n",
            "Recall : 0.75\n",
            "Precision : 0.6\n",
            "Confusion Matrix :\n",
            " [[0 2]\n",
            " [1 3]]\n",
            "----------------------------------------\n",
            "Enter any statement to predict: I love krishna\n",
            "Statement is Positive\n"
          ]
        }
      ]
    }
  ]
}